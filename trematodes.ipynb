{
 "cells": [
  {
   "cell_type": "code",
   "execution_count": 85,
   "metadata": {},
   "outputs": [],
   "source": [
    "#I made the workflow in a little notebook so the parameters are all here and its traceable.\n",
    "#If you want to play around with it, it'll prob take some time since getting everything installed\n",
    "#and woprking is a pain\n"
   ]
  },
  {
   "cell_type": "code",
   "execution_count": 3,
   "metadata": {},
   "outputs": [],
   "source": [
    "import subprocess\n",
    "import shlex\n",
    "def runHHblits( aln , name, path , outdir, db , iterations , ncores , runName='' , SS= False  , ohhm = False , verbose = True , Z = 2000 , B = 2000 , xargs = ''):\n",
    "    if verbose == True:\n",
    "        print( [aln , name, path , outdir, db , iterations , ncores , runName] )\n",
    "    \n",
    "    outhhr= outdir+name+runName+\".hhr\"\n",
    "    args = path + ' -cpu '+ str(ncores) +' -d ' + db + ' -i ' + aln  +' -o '+ outhhr + ' -n ' + str(iterations) + ' -B '+ str(B) + ' -Z ' + str(Z) +' '+ xargs \n",
    "    if SS == True:\n",
    "         args += ' -ssm 2 -ssw .5 '\n",
    "    \n",
    "    if ohhm == True:\n",
    "        outa3m = outdir+name+runName+'.hhm'\n",
    "        args += ' -ohhm ' + outa3m\n",
    "    else: \n",
    "        outa3m = None\n",
    "    if verbose == True:\n",
    "        print(args)\n",
    "    \n",
    "    args = shlex.split( args)\n",
    "    p = subprocess.run( args )\n",
    "    return p , [outhhr,outa3m]"
   ]
  },
  {
   "cell_type": "code",
   "execution_count": 4,
   "metadata": {},
   "outputs": [
    {
     "name": "stdout",
     "output_type": "stream",
     "text": [
      "['./HOG25968.1.aln', 'HOG25968', 'hhblits', './', '/home/cactuskid13/mntpt/HHBLITsdb/pdb70/pdb70', 1, 8, '']\n",
      "hhblits -cpu 8 -d /home/cactuskid13/mntpt/HHBLITsdb/pdb70/pdb70 -i ./HOG25968.1.aln -o ./HOG25968.hhr -n 1 -B 2000 -Z 2000 \n",
      "['./HOG25968.hhr', None]\n"
     ]
    }
   ],
   "source": [
    "#run hhblits\n",
    "p, outfiles = runHHblits( './HOG25968.1.aln' , 'HOG25968' , 'hhblits', outdir = './' , db ='/home/cactuskid13/mntpt/HHBLITsdb/pdb70/pdb70' , iterations = 1 , ncores = 8 , )\n",
    "print(outfiles)"
   ]
  },
  {
   "cell_type": "code",
   "execution_count": 5,
   "metadata": {},
   "outputs": [
    {
     "name": "stdout",
     "output_type": "stream",
     "text": [
      "         prob  len  score model chain\n",
      "1A77_A  0.994  182  165.6  1A77     A\n",
      "1B43_B  0.995  181  178.8  1B43     B\n",
      "1BGX_T  0.985  146  136.1  1BGX     T\n",
      "1CMW_A  0.987  144  140.9  1CMW     A\n",
      "1HUX_B  0.980  230   95.5  1HUX     B\n"
     ]
    }
   ],
   "source": [
    "#parse results\n",
    "\n",
    "import csb\n",
    "import pandas as pd \n",
    "\n",
    "from csb.bio.io.hhpred import HHOutputParser\n",
    "results = HHOutputParser(alignments=False).parse_file(outfiles[0])\n",
    "\n",
    "newhits = {}\n",
    "hitlist=[]\n",
    "for hit in results:\n",
    "    hitlist.append(hit.id)\n",
    "    newhits.update( {  hit.id : { 'prob':hit.probability, 'len' : hit.length , 'score': hit.score    }}  )\n",
    "      \n",
    "hhdf = pd.DataFrame.from_dict(newhits, orient = 'index')\n",
    "hhdf['model'] = hhdf.index.map(lambda x : x.split('_')[0])\n",
    "hhdf['chain'] = hhdf.index.map(lambda x : x.split('_')[1])\n",
    "\n",
    "print(hhdf.head())\n",
    "\n"
   ]
  },
  {
   "cell_type": "code",
   "execution_count": 6,
   "metadata": {},
   "outputs": [
    {
     "data": {
      "image/png": "[encoded data removed]",
      "text/plain": [
       "<Figure size 432x288 with 4 Axes>"
      ]
     },
     "metadata": {
      "needs_background": "light"
     },
     "output_type": "display_data"
    },
    {
     "name": "stdout",
     "output_type": "stream",
     "text": [
      "structure subset\n"
     ]
    },
    {
     "data": {
      "image/png": "[encoded data removed]",
      "text/plain": [
       "<Figure size 432x288 with 4 Axes>"
      ]
     },
     "metadata": {
      "needs_background": "light"
     },
     "output_type": "display_data"
    },
    {
     "name": "stdout",
     "output_type": "stream",
     "text": [
      "         prob  len  score model chain\n",
      "2IVN_A  0.998  307  226.2  2IVN     A\n",
      "2IVP_A  0.998  307  226.2  2IVP     A\n",
      "2VWB_A  0.999  299  248.9  2VWB     A\n",
      "3EN9_A  0.999  301  245.3  3EN9     A\n",
      "3ENO_A  0.998  309  221.5  3ENO     A\n",
      "3ENO_B  0.998  309  221.5  3ENO     B\n",
      "3WUH_B  0.999  348  255.2  3WUH     B\n",
      "3ZEU_B  0.998  322  214.2  3ZEU     B\n",
      "4K25_A  0.999  348  251.8  4K25     A\n",
      "5JMV_A  0.999  302  289.6  5JMV     A\n",
      "6GWJ_K  0.999  313  239.6  6GWJ     K\n",
      "6N9A_D  0.998  318  226.9  6N9A     D\n"
     ]
    }
   ],
   "source": [
    "#select best candidates\n",
    "from matplotlib import pyplot as plt\n",
    "hhdf.hist()\n",
    "plt.show()\n",
    "print('structure subset')\n",
    "sub = hhdf[hhdf.prob> .97]\n",
    "sub = sub[sub.len > 250 ]\n",
    "sub = sub[sub.score > 200 ]\n",
    "sub.hist()\n",
    "plt.show()\n",
    "\n",
    "print(sub)"
   ]
  },
  {
   "cell_type": "code",
   "execution_count": 7,
   "metadata": {},
   "outputs": [
    {
     "name": "stdout",
     "output_type": "stream",
     "text": [
      "2IVN\n",
      "2IVP\n",
      "2VWB\n",
      "3EN9\n",
      "3ENO\n",
      "3WUH\n",
      "3ZEU\n",
      "4K25\n",
      "5JMV\n",
      "6GWJ\n",
      "6N9A\n"
     ]
    }
   ],
   "source": [
    "#now we have some long high quality hits to some chains\n",
    "#get templates\n",
    "import wget\n",
    "dl_url = 'http://files.rcsb.org/download/'\n",
    "for m in sub.model.unique():\n",
    "    print(m)\n",
    "    wget.download(url = dl_url + m +'.cif' , out = './templates/'+m.upper()+'.mmCIF')"
   ]
  },
  {
   "cell_type": "code",
   "execution_count": 9,
   "metadata": {},
   "outputs": [
    {
     "name": "stdout",
     "output_type": "stream",
     "text": [
      "Index(['1A77_A', '1B43_B', '1BGX_T', '1CMW_A', '1HUX_B', '1NU0_B', '1O4W_A',\n",
      "       '1OVQ_A', '1RXV_B', '1RXW_A', '1UL1_X', '1UL1_Z', '1XQS_C', '2A6A_B',\n",
      "       '2C7Z_A', '2IVN_A', '2IVP_A', '2IZO_A', '2MDT_A', '2V7Y_A', '2VWB_A',\n",
      "       '3CQY_A', '3EN9_A', '3ENO_A', '3ENO_B', '3H7I_A', '3ORY_A', '3Q8L_A',\n",
      "       '3QE9_Y', '3R6M_A', '3TTC_A', '3TTD_A', '3VEN_A', '3VTH_A', '3WUH_B',\n",
      "       '3ZD8_B', '3ZD9_A', '3ZDB_A', '3ZEU_A', '3ZEU_B', '4ANI_D', '4BGA_C',\n",
      "       '4BGB_B', '4EHU_A', '4FL9_A', '4G9I_A', '4G9I_F', '4K25_A', '4Q0W_B',\n",
      "       '4Q0Z_A', '4WA8_A', '5BR9_A', '5BR9_C', '5CNQ_A', '5CO8_C', '5E26_B',\n",
      "       '5JIC_A', '5JMV_A', '5KPR_A', '5T9J_A', '5T9J_B', '5UM9_A', '5V07_Z',\n",
      "       '5ZOD_A', '6AWJ_C', '6B3V_A', '6GRB_A', '6GRC_A', '6GRD_A', '6GWJ_K',\n",
      "       '6N9A_B', '6N9A_D', '6S84_C'],\n",
      "      dtype='object')\n",
      "8 7 5 6 11 10 2 12 4 1 3 9 \n",
      "python hhmakemodel.py ./HOG25968.hhr /home/cactuskid13/trematodes/templates/ outmodel.pir /home/cactuskid13/trematodes/modellercif/  -m 8 7 5 6 11 10 2 12 4 1 3 9 \n"
     ]
    }
   ],
   "source": [
    "#make cif files with selected models\n",
    "print(hhdf.index)\n",
    "models = list(hhdf.index)\n",
    "\n",
    "select = ''.join([ str( hitlist.index(m)+1)+' ' for m in sub.index ])\n",
    "\n",
    "print(select)\n",
    "args = 'python hhmakemodel.py ' + outfiles[0] + ' /home/cactuskid13/trematodes/templates/ '  + 'outmodel.pir /home/cactuskid13/trematodes/modellercif/  -m ' + select \n",
    "print(args)\n",
    "args = shlex.split( args )\n",
    "p = subprocess.run( args  )\n"
   ]
  },
  {
   "cell_type": "code",
   "execution_count": null,
   "metadata": {},
   "outputs": [],
   "source": []
  },
  {
   "cell_type": "code",
   "execution_count": 1,
   "metadata": {},
   "outputs": [
    {
     "name": "stdout",
     "output_type": "stream",
     "text": [
      "\n",
      "                         MODELLER 9.23, 2019/10/22, r11522\n",
      "\n",
      "     PROTEIN STRUCTURE MODELLING BY SATISFACTION OF SPATIAL RESTRAINTS\n",
      "\n",
      "\n",
      "                     Copyright(c) 1989-2019 Andrej Sali\n",
      "                            All Rights Reserved\n",
      "\n",
      "                             Written by A. Sali\n",
      "                               with help from\n",
      "              B. Webb, M.S. Madhusudhan, M-Y. Shen, G.Q. Dong,\n",
      "          M.A. Marti-Renom, N. Eswar, F. Alber, M. Topf, B. Oliva,\n",
      "             A. Fiser, R. Sanchez, B. Yerkovich, A. Badretdinov,\n",
      "                     F. Melo, J.P. Overington, E. Feyfant\n",
      "                 University of California, San Francisco, USA\n",
      "                    Rockefeller University, New York, USA\n",
      "                      Harvard University, Cambridge, USA\n",
      "                   Imperial Cancer Research Fund, London, UK\n",
      "              Birkbeck College, University of London, London, UK\n",
      "\n",
      "\n",
      "Kind, OS, HostName, Kernel, Processor: 4, Linux instance-1 4.9.0-9-amd64 x86_64\n",
      "Date and time of compilation         : 2019/10/22 22:09:02\n",
      "MODELLER executable type             : x86_64-intel8\n",
      "Job starting time (YY/MM/DD HH:MM:SS): 2020/03/04 09:52:02\n",
      "\n",
      "openf___224_> Open           $(LIB)/restyp.lib\n",
      "openf___224_> Open           ${MODINSTALL9v23}/modlib/resgrp.lib\n",
      "rdresgr_266_> Number of residue groups:        2\n",
      "openf___224_> Open           ${MODINSTALL9v23}/modlib/sstruc.lib\n",
      "\n",
      "Dynamically allocated memory at   amaxlibraries [B,KiB,MiB]:       191566     187.076     0.183\n",
      "\n",
      "Dynamically allocated memory at   amaxlibraries [B,KiB,MiB]:       192094     187.592     0.183\n",
      "openf___224_> Open           ${MODINSTALL9v23}/modlib/resdih.lib\n",
      "\n",
      "Dynamically allocated memory at   amaxlibraries [B,KiB,MiB]:       240694     235.053     0.230\n",
      "rdrdih__263_> Number of dihedral angle types         :        9\n",
      "              Maximal number of dihedral angle optima:        3\n",
      "              Dihedral angle names                   :  Alph Phi Psi Omeg chi1 chi2 chi3 chi4 chi5\n",
      "openf___224_> Open           ${MODINSTALL9v23}/modlib/radii.lib\n",
      "\n",
      "Dynamically allocated memory at   amaxlibraries [B,KiB,MiB]:       253994     248.041     0.242\n",
      "openf___224_> Open           ${MODINSTALL9v23}/modlib/radii14.lib\n",
      "openf___224_> Open           ${MODINSTALL9v23}/modlib/af_mnchdef.lib\n",
      "rdwilmo_274_> Mainchain residue conformation classes:  APBLE\n",
      "openf___224_> Open           ${MODINSTALL9v23}/modlib/mnch.lib\n",
      "rdclass_257_> Number of classes:        5\n",
      "openf___224_> Open           ${MODINSTALL9v23}/modlib/mnch1.lib\n",
      "openf___224_> Open           ${MODINSTALL9v23}/modlib/mnch2.lib\n",
      "openf___224_> Open           ${MODINSTALL9v23}/modlib/mnch3.lib\n",
      "openf___224_> Open           ${MODINSTALL9v23}/modlib/xs4.mat\n",
      "rdrrwgh_268_> Number of residue types:       21\n",
      "openf______E> Cannot open file alignment.ali: No such file or directory\n",
      "\n"
     ]
    },
    {
     "ename": "OSError",
     "evalue": "openf______E> Cannot open file alignment.ali: No such file or directory\n",
     "output_type": "error",
     "traceback": [
      "\u001b[0;31m---------------------------------------------------------------------------\u001b[0m",
      "\u001b[0;31mOSError\u001b[0m                                   Traceback (most recent call last)",
      "\u001b[0;32m<ipython-input-1-a96ed69724cb>\u001b[0m in \u001b[0;36m<module>\u001b[0;34m\u001b[0m\n\u001b[1;32m     17\u001b[0m \u001b[0ma\u001b[0m\u001b[0;34m.\u001b[0m\u001b[0mending_model\u001b[0m  \u001b[0;34m=\u001b[0m \u001b[0;36m1\u001b[0m                 \u001b[0;31m# index of the last model\u001b[0m\u001b[0;34m\u001b[0m\u001b[0;34m\u001b[0m\u001b[0m\n\u001b[1;32m     18\u001b[0m                                     \u001b[0;31m# (determines how many models to calculate)\u001b[0m\u001b[0;34m\u001b[0m\u001b[0;34m\u001b[0m\u001b[0;34m\u001b[0m\u001b[0m\n\u001b[0;32m---> 19\u001b[0;31m \u001b[0ma\u001b[0m\u001b[0;34m.\u001b[0m\u001b[0mmake\u001b[0m\u001b[0;34m(\u001b[0m\u001b[0;34m)\u001b[0m                            \u001b[0;31m# do the actual comparative modeling\u001b[0m\u001b[0;34m\u001b[0m\u001b[0;34m\u001b[0m\u001b[0m\n\u001b[0m",
      "\u001b[0;32m~/miniconda3/envs/pyprofiler3/lib/python3.7/site-packages/modeller/automodel/automodel.py\u001b[0m in \u001b[0;36mmake\u001b[0;34m(self, exit_stage)\u001b[0m\n\u001b[1;32m    129\u001b[0m \u001b[0;34m\u001b[0m\u001b[0m\n\u001b[1;32m    130\u001b[0m         \u001b[0mself\u001b[0m\u001b[0;34m.\u001b[0m\u001b[0moutputs\u001b[0m \u001b[0;34m=\u001b[0m \u001b[0;34m[\u001b[0m\u001b[0;34m]\u001b[0m\u001b[0;34m\u001b[0m\u001b[0;34m\u001b[0m\u001b[0m\n\u001b[0;32m--> 131\u001b[0;31m         \u001b[0mself\u001b[0m\u001b[0;34m.\u001b[0m\u001b[0mhomcsr\u001b[0m\u001b[0;34m(\u001b[0m\u001b[0mexit_stage\u001b[0m\u001b[0;34m)\u001b[0m\u001b[0;34m\u001b[0m\u001b[0;34m\u001b[0m\u001b[0m\n\u001b[0m\u001b[1;32m    132\u001b[0m         \u001b[0;31m# Exit early?\u001b[0m\u001b[0;34m\u001b[0m\u001b[0;34m\u001b[0m\u001b[0;34m\u001b[0m\u001b[0m\n\u001b[1;32m    133\u001b[0m         \u001b[0;32mif\u001b[0m \u001b[0mexit_stage\u001b[0m \u001b[0;34m>=\u001b[0m \u001b[0;36m1\u001b[0m\u001b[0;34m:\u001b[0m\u001b[0;34m\u001b[0m\u001b[0;34m\u001b[0m\u001b[0m\n",
      "\u001b[0;32m~/miniconda3/envs/pyprofiler3/lib/python3.7/site-packages/modeller/automodel/automodel.py\u001b[0m in \u001b[0;36mhomcsr\u001b[0;34m(self, exit_stage)\u001b[0m\n\u001b[1;32m    591\u001b[0m         \u001b[0;34m\"\"\"Construct the initial model and restraints\"\"\"\u001b[0m\u001b[0;34m\u001b[0m\u001b[0;34m\u001b[0m\u001b[0m\n\u001b[1;32m    592\u001b[0m         \u001b[0;31m# Check the alignment\u001b[0m\u001b[0;34m\u001b[0m\u001b[0;34m\u001b[0m\u001b[0;34m\u001b[0m\u001b[0m\n\u001b[0;32m--> 593\u001b[0;31m         \u001b[0maln\u001b[0m \u001b[0;34m=\u001b[0m \u001b[0mself\u001b[0m\u001b[0;34m.\u001b[0m\u001b[0mread_alignment\u001b[0m\u001b[0;34m(\u001b[0m\u001b[0;34m)\u001b[0m\u001b[0;34m\u001b[0m\u001b[0;34m\u001b[0m\u001b[0m\n\u001b[0m\u001b[1;32m    594\u001b[0m \u001b[0;34m\u001b[0m\u001b[0m\n\u001b[1;32m    595\u001b[0m         \u001b[0;31m# Since in general we do not want to loose the original alignment file\u001b[0m\u001b[0;34m\u001b[0m\u001b[0;34m\u001b[0m\u001b[0;34m\u001b[0m\u001b[0m\n",
      "\u001b[0;32m~/miniconda3/envs/pyprofiler3/lib/python3.7/site-packages/modeller/automodel/automodel.py\u001b[0m in \u001b[0;36mread_alignment\u001b[0;34m(self, aln)\u001b[0m\n\u001b[1;32m    552\u001b[0m             \u001b[0maln\u001b[0m \u001b[0;34m=\u001b[0m \u001b[0malignment\u001b[0m\u001b[0;34m(\u001b[0m\u001b[0mself\u001b[0m\u001b[0;34m.\u001b[0m\u001b[0menv\u001b[0m\u001b[0;34m)\u001b[0m\u001b[0;34m\u001b[0m\u001b[0;34m\u001b[0m\u001b[0m\n\u001b[1;32m    553\u001b[0m         \u001b[0maln\u001b[0m\u001b[0;34m.\u001b[0m\u001b[0mclear\u001b[0m\u001b[0;34m(\u001b[0m\u001b[0;34m)\u001b[0m\u001b[0;34m\u001b[0m\u001b[0;34m\u001b[0m\u001b[0m\n\u001b[0;32m--> 554\u001b[0;31m         \u001b[0maln\u001b[0m\u001b[0;34m.\u001b[0m\u001b[0mappend\u001b[0m\u001b[0;34m(\u001b[0m\u001b[0mfile\u001b[0m\u001b[0;34m=\u001b[0m\u001b[0mself\u001b[0m\u001b[0;34m.\u001b[0m\u001b[0malnfile\u001b[0m\u001b[0;34m,\u001b[0m \u001b[0malign_codes\u001b[0m\u001b[0;34m=\u001b[0m\u001b[0mcodes\u001b[0m\u001b[0;34m)\u001b[0m\u001b[0;34m\u001b[0m\u001b[0;34m\u001b[0m\u001b[0m\n\u001b[0m\u001b[1;32m    555\u001b[0m         \u001b[0;32mreturn\u001b[0m \u001b[0maln\u001b[0m\u001b[0;34m\u001b[0m\u001b[0;34m\u001b[0m\u001b[0m\n\u001b[1;32m    556\u001b[0m \u001b[0;34m\u001b[0m\u001b[0m\n",
      "\u001b[0;32m~/miniconda3/envs/pyprofiler3/lib/python3.7/site-packages/modeller/alignment.py\u001b[0m in \u001b[0;36mappend\u001b[0;34m(self, file, align_codes, atom_files, remove_gaps, alignment_format, io, allow_alternates)\u001b[0m\n\u001b[1;32m     72\u001b[0m             \u001b[0;32melse\u001b[0m\u001b[0;34m:\u001b[0m\u001b[0;34m\u001b[0m\u001b[0;34m\u001b[0m\u001b[0m\n\u001b[1;32m     73\u001b[0m                 \u001b[0matom_files\u001b[0m\u001b[0;34m.\u001b[0m\u001b[0mappend\u001b[0m\u001b[0;34m(\u001b[0m\u001b[0mnew_atom_files\u001b[0m\u001b[0;34m)\u001b[0m\u001b[0;34m\u001b[0m\u001b[0;34m\u001b[0m\u001b[0m\n\u001b[0;32m---> 74\u001b[0;31m         \u001b[0mfh\u001b[0m \u001b[0;34m=\u001b[0m \u001b[0mmodfile\u001b[0m\u001b[0;34m.\u001b[0m\u001b[0m_get_filehandle\u001b[0m\u001b[0;34m(\u001b[0m\u001b[0mfile\u001b[0m\u001b[0;34m,\u001b[0m \u001b[0;34m'r'\u001b[0m\u001b[0;34m)\u001b[0m\u001b[0;34m\u001b[0m\u001b[0;34m\u001b[0m\u001b[0m\n\u001b[0m\u001b[1;32m     75\u001b[0m         \u001b[0mfunc\u001b[0m \u001b[0;34m=\u001b[0m \u001b[0m_modeller\u001b[0m\u001b[0;34m.\u001b[0m\u001b[0mmod_alignment_read\u001b[0m\u001b[0;34m\u001b[0m\u001b[0;34m\u001b[0m\u001b[0m\n\u001b[1;32m     76\u001b[0m         return func(self.modpt, io.modpt, self.env.libs.modpt, align_codes,\n",
      "\u001b[0;32m~/miniconda3/envs/pyprofiler3/lib/python3.7/site-packages/modeller/modfile.py\u001b[0m in \u001b[0;36m_get_filehandle\u001b[0;34m(fh, mode)\u001b[0m\n\u001b[1;32m     70\u001b[0m        filehandle, or a Python file object.\"\"\"\n\u001b[1;32m     71\u001b[0m     \u001b[0;32mif\u001b[0m \u001b[0misinstance\u001b[0m\u001b[0;34m(\u001b[0m\u001b[0mfh\u001b[0m\u001b[0;34m,\u001b[0m \u001b[0mstr\u001b[0m\u001b[0;34m)\u001b[0m\u001b[0;34m:\u001b[0m\u001b[0;34m\u001b[0m\u001b[0;34m\u001b[0m\u001b[0m\n\u001b[0;32m---> 72\u001b[0;31m         \u001b[0;32mreturn\u001b[0m \u001b[0mFile\u001b[0m\u001b[0;34m(\u001b[0m\u001b[0mfh\u001b[0m\u001b[0;34m,\u001b[0m \u001b[0mmode\u001b[0m\u001b[0;34m)\u001b[0m\u001b[0;34m\u001b[0m\u001b[0;34m\u001b[0m\u001b[0m\n\u001b[0m\u001b[1;32m     73\u001b[0m     \u001b[0;32melif\u001b[0m \u001b[0misinstance\u001b[0m\u001b[0;34m(\u001b[0m\u001b[0mfh\u001b[0m\u001b[0;34m,\u001b[0m \u001b[0mFile\u001b[0m\u001b[0;34m)\u001b[0m\u001b[0;34m:\u001b[0m\u001b[0;34m\u001b[0m\u001b[0;34m\u001b[0m\u001b[0m\n\u001b[1;32m     74\u001b[0m         \u001b[0;32mreturn\u001b[0m \u001b[0mfh\u001b[0m\u001b[0;34m\u001b[0m\u001b[0;34m\u001b[0m\u001b[0m\n",
      "\u001b[0;32m~/miniconda3/envs/pyprofiler3/lib/python3.7/site-packages/modeller/modfile.py\u001b[0m in \u001b[0;36m__init__\u001b[0;34m(self, filename, mode)\u001b[0m\n\u001b[1;32m     25\u001b[0m \u001b[0;34m\u001b[0m\u001b[0m\n\u001b[1;32m     26\u001b[0m     \u001b[0;32mdef\u001b[0m \u001b[0m__init__\u001b[0m\u001b[0;34m(\u001b[0m\u001b[0mself\u001b[0m\u001b[0;34m,\u001b[0m \u001b[0mfilename\u001b[0m\u001b[0;34m,\u001b[0m \u001b[0mmode\u001b[0m\u001b[0;34m=\u001b[0m\u001b[0;34m'r'\u001b[0m\u001b[0;34m)\u001b[0m\u001b[0;34m:\u001b[0m\u001b[0;34m\u001b[0m\u001b[0;34m\u001b[0m\u001b[0m\n\u001b[0;32m---> 27\u001b[0;31m         \u001b[0mself\u001b[0m\u001b[0;34m.\u001b[0m\u001b[0m_file\u001b[0m \u001b[0;34m=\u001b[0m \u001b[0m_modeller\u001b[0m\u001b[0;34m.\u001b[0m\u001b[0mmod_file_open\u001b[0m\u001b[0;34m(\u001b[0m\u001b[0mfilename\u001b[0m\u001b[0;34m,\u001b[0m \u001b[0mmode\u001b[0m\u001b[0;34m)\u001b[0m\u001b[0;34m\u001b[0m\u001b[0;34m\u001b[0m\u001b[0m\n\u001b[0m\u001b[1;32m     28\u001b[0m \u001b[0;34m\u001b[0m\u001b[0m\n\u001b[1;32m     29\u001b[0m     \u001b[0;32mdef\u001b[0m \u001b[0m__del__\u001b[0m\u001b[0;34m(\u001b[0m\u001b[0mself\u001b[0m\u001b[0;34m)\u001b[0m\u001b[0;34m:\u001b[0m\u001b[0;34m\u001b[0m\u001b[0;34m\u001b[0m\u001b[0m\n",
      "\u001b[0;31mOSError\u001b[0m: openf______E> Cannot open file alignment.ali: No such file or directory\n"
     ]
    }
   ],
   "source": [
    "#run modeller\n",
    "# Comparative modeling by the automodel class\n",
    "from modeller import *              # Load standard Modeller classes\n",
    "from modeller.automodel import *    # Load the automodel class\n",
    "\n",
    "log.verbose()    # request verbose output\n",
    "env = environ()  # create a new MODELLER environment to build this model in\n",
    "\n",
    "# directories for input atom files\n",
    "env.io.atom_files_directory = ['.', './templates']\n",
    "\n",
    "a = automodel(env,\n",
    "              alnfile  = 'alignment.ali',     # alignment filename\n",
    "              knowns   = '5fd1',              # codes of the templates\n",
    "              sequence = '1fdx')              # code of the target\n",
    "a.starting_model= 1                 # index of the first model\n",
    "a.ending_model  = 1                 # index of the last model\n",
    "                                    # (determines how many models to calculate)\n",
    "a.make()                            # do the actual comparative modeling\n"
   ]
  },
  {
   "cell_type": "code",
   "execution_count": null,
   "metadata": {},
   "outputs": [],
   "source": []
  }
 ],
 "metadata": {
  "kernelspec": {
   "display_name": "Python 3",
   "language": "python",
   "name": "python3"
  },
  "language_info": {
   "codemirror_mode": {
    "name": "ipython",
    "version": 3
   },
   "file_extension": ".py",
   "mimetype": "text/x-python",
   "name": "python",
   "nbconvert_exporter": "python",
   "pygments_lexer": "ipython3",
   "version": "3.7.3"
  }
 },
 "nbformat": 4,
 "nbformat_minor": 4
}
